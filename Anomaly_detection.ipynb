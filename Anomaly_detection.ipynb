{
  "cells": [
    {
      "cell_type": "code",
      "execution_count": 1,
      "metadata": {
        "id": "Z_BUnegyvp-9"
      },
      "outputs": [],
      "source": [
        "import pandas as pd\n",
        "import numpy as np\n",
        "\n",
        "import matplotlib.pyplot as plt\n",
        "import seaborn as sns\n",
        "\n",
        "from sklearn.metrics import silhouette_samples\n",
        "from sklearn.cluster import KMeans\n",
        "from sklearn.ensemble import IsolationForest\n"
      ]
    },
    {
      "cell_type": "code",
      "execution_count": 2,
      "metadata": {},
      "outputs": [],
      "source": [
        "df_transformed = pd.read_csv(\"data/preprocessed.csv\")"
      ]
    },
    {
      "cell_type": "markdown",
      "metadata": {
        "id": "QsMEah699S6-"
      },
      "source": [
        "# Anomaly Detection using unsupervised Learning models to label the data"
      ]
    },
    {
      "cell_type": "markdown",
      "metadata": {
        "id": "MFiQrI_LFbIF"
      },
      "source": [
        "### Unsupervised Modeling for anomaly detection"
      ]
    },
    {
      "cell_type": "code",
      "execution_count": null,
      "metadata": {
        "id": "U7jQDz7h435J"
      },
      "outputs": [],
      "source": [
        "X = np.array(df_transformed['temperature']).reshape(-1,1)"
      ]
    },
    {
      "cell_type": "markdown",
      "metadata": {
        "id": "_8qnrvgaGydx"
      },
      "source": [
        "#### K-means"
      ]
    },
    {
      "cell_type": "code",
      "execution_count": null,
      "metadata": {
        "id": "Z79ZRAMSFWqH"
      },
      "outputs": [],
      "source": [
        "\n",
        "kmeans = KMeans(n_clusters=2, random_state=42)\n",
        "kmeans.fit(X)\n",
        "labels = kmeans.predict(X)\n",
        "unique_elements, counts_elements = np.unique(labels, return_counts=True)\n",
        "clusters = np.asarray((unique_elements, counts_elements))\n"
      ]
    },
    {
      "cell_type": "code",
      "execution_count": null,
      "metadata": {
        "id": "W-nRfL1TFWnR"
      },
      "outputs": [],
      "source": [
        "# Write a function that calculates distance between each point and the centroid of the closest cluster\n",
        "def getDistanceByPoint(data, model):\n",
        "    \"\"\" Function that calculates the distance between a point and centroid of a cluster, \n",
        "            returns the distances in pandas series\"\"\"\n",
        "    distance = []\n",
        "    for i in range(0,len(data)):\n",
        "        Xa = np.array(data.loc[i])\n",
        "        Xb = model.cluster_centers_[model.labels_[i]-1]\n",
        "        distance.append(np.linalg.norm(Xa-Xb))\n",
        "    return pd.Series(distance, index=data.index)"
      ]
    },
    {
      "cell_type": "code",
      "execution_count": null,
      "metadata": {
        "id": "q7Z7IHPWFWjo"
      },
      "outputs": [],
      "source": [
        "# Assume that 15% of the entire data set are anomalies \n",
        "outliers_fraction = 0.15\n",
        "# get the distance between each point and its nearest centroid. The biggest distances are considered as anomaly\n",
        "distance = getDistanceByPoint(df_transformed['temperature'], kmeans)\n",
        "# number of observations that equate to the 13% of the entire data set\n",
        "number_of_outliers = int(outliers_fraction*len(distance))\n",
        "# Take the minimum of the largest 15% of the distances as the threshold\n",
        "threshold = distance.nlargest(number_of_outliers).min()\n"
      ]
    },
    {
      "cell_type": "code",
      "execution_count": null,
      "metadata": {
        "id": "2PVfcrRo5zPy"
      },
      "outputs": [],
      "source": [
        "# anomaly1 contain the anomaly result of the above method Cluster (0:normal, 1:anomaly) \n",
        "kmeans_anomaly = np.array(distance >= threshold).astype(int)"
      ]
    },
    {
      "cell_type": "markdown",
      "metadata": {
        "id": "b-G3j1zPGxkD"
      },
      "source": [
        "#### Isolation Forest"
      ]
    },
    {
      "cell_type": "code",
      "execution_count": null,
      "metadata": {
        "id": "SMygzvPqGw8L"
      },
      "outputs": [],
      "source": [
        "# Import IsolationForest\n",
        "from sklearn.ensemble import IsolationForest\n",
        "\n",
        "outliers_fraction = 0.15\n",
        "model =  IsolationForest(contamination=outliers_fraction)\n",
        "model.fit(X) \n",
        "isolationforest_labels = model.predict(X)\n"
      ]
    },
    {
      "cell_type": "code",
      "execution_count": null,
      "metadata": {
        "id": "GMZohj2OG16A"
      },
      "outputs": [],
      "source": [
        "def change_value(x):\n",
        "  if x == 1:\n",
        "    return 0\n",
        "  else:\n",
        "    return 1\n",
        "func = np.vectorize(change_value)\n",
        "isolationforest_anomaly = func(isolationforest_labels)"
      ]
    },
    {
      "cell_type": "markdown",
      "metadata": {
        "id": "si7BodSsIT3O"
      },
      "source": [
        "#### comparing the result of above two anomaly detection method, then making anomaly as true when both the models predicted it as anomaly else making it as false"
      ]
    },
    {
      "cell_type": "markdown",
      "metadata": {
        "id": "AEwl_QDJkZ2Y"
      },
      "source": []
    },
    {
      "cell_type": "code",
      "execution_count": null,
      "metadata": {
        "id": "uzMu7RzNIpUR"
      },
      "outputs": [],
      "source": [
        "kmeans_result = kmeans_anomaly[kmeans_anomaly==1]\n",
        "isolationforest_result = isolationforest_anomaly[isolationforest_anomaly==1]"
      ]
    },
    {
      "cell_type": "code",
      "execution_count": null,
      "metadata": {
        "colab": {
          "base_uri": "https://localhost:8080/",
          "height": 54
        },
        "id": "galmkkPElom0",
        "outputId": "b5e3f923-15cc-47b9-ec1d-d1003fdc2469"
      },
      "outputs": [
        {
          "data": {
            "image/png": "[encoded data removed]",
            "text/plain": [
              "<Figure size 2520x2520 with 1 Axes>"
            ]
          },
          "metadata": {
            "needs_background": "light"
          },
          "output_type": "display_data"
        }
      ],
      "source": [
        "\n",
        "f, ax = plt.subplots(figsize=(35, 35))\n",
        "X = np.r_[[kmeans_result[0:240]],[isolationforest_result[0:240]]]\n",
        "X = X.astype(int)\n",
        "X.shape\n",
        "ax = sns.heatmap(X, square=True, linewidths=1.0,\n",
        "            yticklabels=['kmeans','if'], cbar=False,\n",
        "            )"
      ]
    },
    {
      "cell_type": "code",
      "execution_count": null,
      "metadata": {
        "id": "2CXddKhDklsa"
      },
      "outputs": [],
      "source": [
        "def filter_anomaly(anomaly1,anomaly2):\n",
        "  if anomaly1 & anomaly2:\n",
        "    return 1\n",
        "  else:\n",
        "    return 0\n",
        "\n",
        "\n",
        "func = np.vectorize(filter_anomaly)\n",
        "final_anomaly = func(kmeans_anomaly,isolationforest_anomaly)"
      ]
    },
    {
      "cell_type": "code",
      "execution_count": null,
      "metadata": {
        "colab": {
          "base_uri": "https://localhost:8080/"
        },
        "id": "G25JrYaSk2tX",
        "outputId": "eb9868f5-9cd6-4a8d-c287-4b108046d637"
      },
      "outputs": [
        {
          "data": {
            "text/plain": [
              "0    2245277\n",
              "1      58013\n",
              "Name: anomaly, dtype: int64"
            ]
          },
          "execution_count": 34,
          "metadata": {},
          "output_type": "execute_result"
        }
      ],
      "source": [
        "df_transformed['anomaly'] = final_anomaly\n",
        "df_transformed.anomaly.value_counts()"
      ]
    },
    {
      "cell_type": "code",
      "execution_count": null,
      "metadata": {
        "colab": {
          "base_uri": "https://localhost:8080/",
          "height": 112
        },
        "id": "RBhu44j9KIuF",
        "outputId": "aad915ac-4ddf-4e72-c2fc-82d9c840dbb4"
      },
      "outputs": [
        {
          "data": {
            "text/html": [
              "\n",
              "  <div id=\"df-4bc6c80e-75a4-4a6a-8e14-ec4227cea87a\">\n",
              "    <div class=\"colab-df-container\">\n",
              "      <div>\n",
              "<style scoped>\n",
              "    .dataframe tbody tr th:only-of-type {\n",
              "        vertical-align: middle;\n",
              "    }\n",
              "\n",
              "    .dataframe tbody tr th {\n",
              "        vertical-align: top;\n",
              "    }\n",
              "\n",
              "    .dataframe thead th {\n",
              "        text-align: right;\n",
              "    }\n",
              "</style>\n",
              "<table border=\"1\" class=\"dataframe\">\n",
              "  <thead>\n",
              "    <tr style=\"text-align: right;\">\n",
              "      <th></th>\n",
              "      <th>temperature</th>\n",
              "      <th>date</th>\n",
              "      <th>time</th>\n",
              "      <th>epoch</th>\n",
              "      <th>moteid</th>\n",
              "      <th>humidity</th>\n",
              "      <th>light</th>\n",
              "      <th>voltage</th>\n",
              "      <th>timestamp</th>\n",
              "      <th>anomaly</th>\n",
              "    </tr>\n",
              "  </thead>\n",
              "  <tbody>\n",
              "    <tr>\n",
              "      <th>102801</th>\n",
              "      <td>-0.886598</td>\n",
              "      <td>2004-02-29</td>\n",
              "      <td>04:18:23.856796</td>\n",
              "      <td>3281</td>\n",
              "      <td>47</td>\n",
              "      <td>45.572</td>\n",
              "      <td>0.46</td>\n",
              "      <td>2.65143</td>\n",
              "      <td>2004-02-29 04:18:23.856796</td>\n",
              "      <td>1</td>\n",
              "    </tr>\n",
              "    <tr>\n",
              "      <th>613271</th>\n",
              "      <td>0.287187</td>\n",
              "      <td>2004-03-05</td>\n",
              "      <td>17:37:38.70502</td>\n",
              "      <td>19279</td>\n",
              "      <td>44</td>\n",
              "      <td>37.5051</td>\n",
              "      <td>566.72</td>\n",
              "      <td>2.65143</td>\n",
              "      <td>2004-03-05 17:37:38.705020</td>\n",
              "      <td>0</td>\n",
              "    </tr>\n",
              "  </tbody>\n",
              "</table>\n",
              "</div>\n",
              "      <button class=\"colab-df-convert\" onclick=\"convertToInteractive('df-4bc6c80e-75a4-4a6a-8e14-ec4227cea87a')\"\n",
              "              title=\"Convert this dataframe to an interactive table.\"\n",
              "              style=\"display:none;\">\n",
              "        \n",
              "  <svg xmlns=\"http://www.w3.org/2000/svg\" height=\"24px\"viewBox=\"0 0 24 24\"\n",
              "       width=\"24px\">\n",
              "    <path d=\"M0 0h24v24H0V0z\" fill=\"none\"/>\n",
              "    <path d=\"M18.56 5.44l.94 2.06.94-2.06 2.06-.94-2.06-.94-.94-2.06-.94 2.06-2.06.94zm-11 1L8.5 8.5l.94-2.06 2.06-.94-2.06-.94L8.5 2.5l-.94 2.06-2.06.94zm10 10l.94 2.06.94-2.06 2.06-.94-2.06-.94-.94-2.06-.94 2.06-2.06.94z\"/><path d=\"M17.41 7.96l-1.37-1.37c-.4-.4-.92-.59-1.43-.59-.52 0-1.04.2-1.43.59L10.3 9.45l-7.72 7.72c-.78.78-.78 2.05 0 2.83L4 21.41c.39.39.9.59 1.41.59.51 0 1.02-.2 1.41-.59l7.78-7.78 2.81-2.81c.8-.78.8-2.07 0-2.86zM5.41 20L4 18.59l7.72-7.72 1.47 1.35L5.41 20z\"/>\n",
              "  </svg>\n",
              "      </button>\n",
              "      \n",
              "  <style>\n",
              "    .colab-df-container {\n",
              "      display:flex;\n",
              "      flex-wrap:wrap;\n",
              "      gap: 12px;\n",
              "    }\n",
              "\n",
              "    .colab-df-convert {\n",
              "      background-color: #E8F0FE;\n",
              "      border: none;\n",
              "      border-radius: 50%;\n",
              "      cursor: pointer;\n",
              "      display: none;\n",
              "      fill: #1967D2;\n",
              "      height: 32px;\n",
              "      padding: 0 0 0 0;\n",
              "      width: 32px;\n",
              "    }\n",
              "\n",
              "    .colab-df-convert:hover {\n",
              "      background-color: #E2EBFA;\n",
              "      box-shadow: 0px 1px 2px rgba(60, 64, 67, 0.3), 0px 1px 3px 1px rgba(60, 64, 67, 0.15);\n",
              "      fill: #174EA6;\n",
              "    }\n",
              "\n",
              "    [theme=dark] .colab-df-convert {\n",
              "      background-color: #3B4455;\n",
              "      fill: #D2E3FC;\n",
              "    }\n",
              "\n",
              "    [theme=dark] .colab-df-convert:hover {\n",
              "      background-color: #434B5C;\n",
              "      box-shadow: 0px 1px 3px 1px rgba(0, 0, 0, 0.15);\n",
              "      filter: drop-shadow(0px 1px 2px rgba(0, 0, 0, 0.3));\n",
              "      fill: #FFFFFF;\n",
              "    }\n",
              "  </style>\n",
              "\n",
              "      <script>\n",
              "        const buttonEl =\n",
              "          document.querySelector('#df-4bc6c80e-75a4-4a6a-8e14-ec4227cea87a button.colab-df-convert');\n",
              "        buttonEl.style.display =\n",
              "          google.colab.kernel.accessAllowed ? 'block' : 'none';\n",
              "\n",
              "        async function convertToInteractive(key) {\n",
              "          const element = document.querySelector('#df-4bc6c80e-75a4-4a6a-8e14-ec4227cea87a');\n",
              "          const dataTable =\n",
              "            await google.colab.kernel.invokeFunction('convertToInteractive',\n",
              "                                                     [key], {});\n",
              "          if (!dataTable) return;\n",
              "\n",
              "          const docLinkHtml = 'Like what you see? Visit the ' +\n",
              "            '<a target=\"_blank\" href=https://colab.research.google.com/notebooks/data_table.ipynb>data table notebook</a>'\n",
              "            + ' to learn more about interactive tables.';\n",
              "          element.innerHTML = '';\n",
              "          dataTable['output_type'] = 'display_data';\n",
              "          await google.colab.output.renderOutput(dataTable, element);\n",
              "          const docLink = document.createElement('div');\n",
              "          docLink.innerHTML = docLinkHtml;\n",
              "          element.appendChild(docLink);\n",
              "        }\n",
              "      </script>\n",
              "    </div>\n",
              "  </div>\n",
              "  "
            ],
            "text/plain": [
              "       temperature        date             time  epoch moteid humidity  \\\n",
              "102801   -0.886598  2004-02-29  04:18:23.856796   3281     47   45.572   \n",
              "613271    0.287187  2004-03-05   17:37:38.70502  19279     44  37.5051   \n",
              "\n",
              "         light  voltage                  timestamp  anomaly  \n",
              "102801    0.46  2.65143 2004-02-29 04:18:23.856796        1  \n",
              "613271  566.72  2.65143 2004-03-05 17:37:38.705020        0  "
            ]
          },
          "execution_count": 35,
          "metadata": {},
          "output_type": "execute_result"
        }
      ],
      "source": [
        "df_transformed.sample(2)"
      ]
    },
    {
      "cell_type": "markdown",
      "metadata": {
        "id": "5gUP0_gql46f"
      },
      "source": [
        "### analysis on anomaly result"
      ]
    },
    {
      "cell_type": "code",
      "execution_count": null,
      "metadata": {
        "id": "6oUpbaFU8PA6"
      },
      "outputs": [],
      "source": [
        "df_filtered = df_transformed[df_transformed['anomaly']==1]"
      ]
    },
    {
      "cell_type": "code",
      "execution_count": null,
      "metadata": {
        "colab": {
          "base_uri": "https://localhost:8080/",
          "height": 564
        },
        "id": "mF6XaWIXLGxd",
        "outputId": "cb04fe16-e69f-4e0b-d049-17908680c6e5"
      },
      "outputs": [
        {
          "data": {
            "image/png": "[encoded data removed]",
            "text/plain": [
              "<Figure size 1800x720 with 1 Axes>"
            ]
          },
          "metadata": {
            "needs_background": "light"
          },
          "output_type": "display_data"
        }
      ],
      "source": [
        "plt.figure(figsize = (25,10))\n",
        "sns.countplot(x = 'moteid',data = df_filtered)\n",
        "plt.ylabel('number of anomalies')\n",
        "plt.title(\"Number of anomalies per sensor\")\n",
        "plt.show();"
      ]
    }
  ],
  "metadata": {
    "colab": {
      "collapsed_sections": [
        "QsMEah699S6-"
      ],
      "provenance": []
    },
    "kernelspec": {
      "display_name": "Python 3",
      "language": "python",
      "name": "python3"
    },
    "language_info": {
      "codemirror_mode": {
        "name": "ipython",
        "version": 3
      },
      "file_extension": ".py",
      "mimetype": "text/x-python",
      "name": "python",
      "nbconvert_exporter": "python",
      "pygments_lexer": "ipython3",
      "version": "3.10.8"
    },
    "vscode": {
      "interpreter": {
        "hash": "b0fa6594d8f4cbf19f97940f81e996739fb7646882a419484c72d19e05852a7e"
      }
    }
  },
  "nbformat": 4,
  "nbformat_minor": 0
}
