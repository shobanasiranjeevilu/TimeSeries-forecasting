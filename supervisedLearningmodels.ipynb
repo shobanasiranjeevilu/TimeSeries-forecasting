{
  "cells": [
    {
      "cell_type": "code",
      "execution_count": 1,
      "metadata": {
        "id": "Z_BUnegyvp-9"
      },
      "outputs": [],
      "source": [
        "import pandas as pd\n",
        "import numpy as np\n",
        "\n",
        "import matplotlib.pyplot as plt\n",
        "import seaborn as sns\n",
        "\n",
        "from sklearn.utils.fixes import loguniform\n",
        "from scipy.stats import randint, uniform\n",
        "from sklearn.model_selection import RandomizedSearchCV\n",
        "\n",
        "from sklearn.model_selection import train_test_split\n",
        "from sklearn.ensemble import (GradientBoostingClassifier,\n",
        "                               RandomForestClassifier,StackingClassifier)\n",
        "import xgboost as xgb\n",
        "from sklearn.metrics import classification_report, confusion_matrix\n"
      ]
    },
    {
      "cell_type": "code",
      "execution_count": null,
      "metadata": {
        "id": "_M0M7IpyzoMu"
      },
      "outputs": [],
      "source": [
        "df_transformed = pd.read_csv(\"data/preprocessed.csv\")"
      ]
    },
    {
      "cell_type": "markdown",
      "metadata": {
        "id": "AUX49Dcn4H3M"
      },
      "source": [
        "# supervised learning algorithm to learn the anomalies"
      ]
    },
    {
      "cell_type": "markdown",
      "metadata": {
        "id": "JC1_T9k_DvKM"
      },
      "source": [
        "#### Resampling the data: since data is more skewed towards one class"
      ]
    },
    {
      "cell_type": "code",
      "execution_count": null,
      "metadata": {
        "id": "WCiXdg6fzGLm"
      },
      "outputs": [],
      "source": [
        "count_class_0, count_class_1 = df_transformed.anomaly.value_counts()\n",
        "df_class_0 = df_transformed[df_transformed['anomaly'] == 0]\n",
        "df_class_1 = df_transformed[df_transformed['anomaly'] == 1]"
      ]
    },
    {
      "cell_type": "code",
      "execution_count": null,
      "metadata": {
        "colab": {
          "base_uri": "https://localhost:8080/"
        },
        "id": "LVjM8h4BzU_w",
        "outputId": "4ae5bf1f-6638-4856-a83d-ee1255675e65"
      },
      "outputs": [
        {
          "name": "stdout",
          "output_type": "stream",
          "text": [
            "Random under-sampling:\n",
            "0    58013\n",
            "1    58013\n",
            "Name: anomaly, dtype: int64\n"
          ]
        },
        {
          "data": {
            "image/png": "[encoded data removed]",
            "text/plain": [
              "<Figure size 432x288 with 1 Axes>"
            ]
          },
          "metadata": {
            "needs_background": "light"
          },
          "output_type": "display_data"
        }
      ],
      "source": [
        "df_class_0_under = df_class_0.sample(count_class_1)\n",
        "df_test_under = pd.concat([df_class_0_under, df_class_1], axis=0)\n",
        "\n",
        "print('Random under-sampling:')\n",
        "print(df_test_under.anomaly.value_counts())\n",
        "\n",
        "df_test_under.anomaly.value_counts().plot(kind='bar', title='Count (target)');"
      ]
    },
    {
      "cell_type": "markdown",
      "metadata": {
        "id": "ROxEDdf0HfF8"
      },
      "source": [
        "#### Hyper parameter tuning"
      ]
    },
    {
      "cell_type": "code",
      "execution_count": null,
      "metadata": {
        "id": "9b0kKnnhHwwN"
      },
      "outputs": [],
      "source": [
        "X = df_test_under['temperature'].values.reshape(-1,1)\n",
        "y= df_test_under['anomaly']\n",
        "X_train, X_test, y_train, y_test = train_test_split(X, y, test_size=0.25)"
      ]
    },
    {
      "cell_type": "code",
      "execution_count": null,
      "metadata": {
        "id": "3ODowvSeHmDQ"
      },
      "outputs": [],
      "source": [
        "\n",
        "def test_classifier(clf, params, n_iter=5):\n",
        "  grid = RandomizedSearchCV(clf, params, \n",
        "                            scoring='f1', cv=3, \n",
        "                            verbose=3, n_iter=n_iter)\n",
        "  grid.fit(X_train, y_train)\n",
        "  grid.best_estimator_.fit(X_train, y_train)\n",
        "  return grid.best_estimator_, grid.best_score_"
      ]
    },
    {
      "cell_type": "code",
      "execution_count": null,
      "metadata": {
        "id": "9Xk0oBN4ISL_"
      },
      "outputs": [],
      "source": [
        "classifiers =  {}"
      ]
    },
    {
      "cell_type": "markdown",
      "metadata": {
        "id": "9N-4VS01IYpt"
      },
      "source": [
        "##### XGBoost"
      ]
    },
    {
      "cell_type": "code",
      "execution_count": null,
      "metadata": {
        "colab": {
          "base_uri": "https://localhost:8080/"
        },
        "id": "GFj7pNM_HlaT",
        "outputId": "e98d5523-6a65-4012-d9ec-bc82b27f11d4"
      },
      "outputs": [
        {
          "name": "stdout",
          "output_type": "stream",
          "text": [
            "Fitting 3 folds for each of 5 candidates, totalling 15 fits\n",
            "[CV 1/3] END learning_rate=0.03331070383276103, max_depth=2, n_estimators=495;, score=1.000 total time=   5.4s\n",
            "[CV 2/3] END learning_rate=0.03331070383276103, max_depth=2, n_estimators=495;, score=1.000 total time=   5.2s\n",
            "[CV 3/3] END learning_rate=0.03331070383276103, max_depth=2, n_estimators=495;, score=1.000 total time=   5.2s\n",
            "[CV 1/3] END learning_rate=0.03516626775165747, max_depth=5, n_estimators=331;, score=1.000 total time=   3.7s\n",
            "[CV 2/3] END learning_rate=0.03516626775165747, max_depth=5, n_estimators=331;, score=1.000 total time=   3.7s\n",
            "[CV 3/3] END learning_rate=0.03516626775165747, max_depth=5, n_estimators=331;, score=1.000 total time=   3.7s\n",
            "[CV 1/3] END learning_rate=0.01980944291479138, max_depth=5, n_estimators=233;, score=1.000 total time=   2.6s\n",
            "[CV 2/3] END learning_rate=0.01980944291479138, max_depth=5, n_estimators=233;, score=1.000 total time=   2.7s\n",
            "[CV 3/3] END learning_rate=0.01980944291479138, max_depth=5, n_estimators=233;, score=1.000 total time=   2.7s\n",
            "[CV 1/3] END learning_rate=0.012236174782443461, max_depth=4, n_estimators=53;, score=1.000 total time=   0.6s\n",
            "[CV 2/3] END learning_rate=0.012236174782443461, max_depth=4, n_estimators=53;, score=1.000 total time=   0.7s\n",
            "[CV 3/3] END learning_rate=0.012236174782443461, max_depth=4, n_estimators=53;, score=1.000 total time=   0.7s\n",
            "[CV 1/3] END learning_rate=0.03438096463173121, max_depth=2, n_estimators=69;, score=1.000 total time=   0.8s\n",
            "[CV 2/3] END learning_rate=0.03438096463173121, max_depth=2, n_estimators=69;, score=1.000 total time=   0.8s\n",
            "[CV 3/3] END learning_rate=0.03438096463173121, max_depth=2, n_estimators=69;, score=1.000 total time=   0.8s\n"
          ]
        },
        {
          "data": {
            "text/plain": [
              "(XGBClassifier(learning_rate=0.03331070383276103, max_depth=2, n_estimators=495),\n",
              " 1.0)"
            ]
          },
          "execution_count": 43,
          "metadata": {},
          "output_type": "execute_result"
        }
      ],
      "source": [
        "params = {\n",
        "          'learning_rate': loguniform(1e-2, 0.2),\n",
        "          'n_estimators': randint(50,500),\n",
        "          'max_depth': randint(2, 10)\n",
        "}\n",
        "xgclf = xgb.XGBClassifier()\n",
        "classifiers['xgboost'] = test_classifier(xgclf, params)\n",
        "classifiers['xgboost']"
      ]
    },
    {
      "cell_type": "markdown",
      "metadata": {
        "id": "AT5DVLkeIeVp"
      },
      "source": [
        "##### Randomforest"
      ]
    },
    {
      "cell_type": "code",
      "execution_count": null,
      "metadata": {
        "colab": {
          "base_uri": "https://localhost:8080/"
        },
        "id": "11FwIq8-HlSV",
        "outputId": "41cf7cfa-6f2e-4405-afa4-f2d48d97f6d2"
      },
      "outputs": [
        {
          "name": "stdout",
          "output_type": "stream",
          "text": [
            "Fitting 3 folds for each of 5 candidates, totalling 15 fits\n",
            "[CV 1/3] END max_depth=9, max_features=0.2758360253814487, min_samples_leaf=15;, score=1.000 total time=   1.4s\n",
            "[CV 2/3] END max_depth=9, max_features=0.2758360253814487, min_samples_leaf=15;, score=1.000 total time=   1.4s\n",
            "[CV 3/3] END max_depth=9, max_features=0.2758360253814487, min_samples_leaf=15;, score=1.000 total time=   1.4s\n",
            "[CV 1/3] END max_depth=11, max_features=0.20912499453389588, min_samples_leaf=1;, score=1.000 total time=   1.4s\n",
            "[CV 2/3] END max_depth=11, max_features=0.20912499453389588, min_samples_leaf=1;, score=1.000 total time=   1.4s\n",
            "[CV 3/3] END max_depth=11, max_features=0.20912499453389588, min_samples_leaf=1;, score=1.000 total time=   1.4s\n",
            "[CV 1/3] END max_depth=2, max_features=0.8855096974288762, min_samples_leaf=6;, score=1.000 total time=   1.4s\n",
            "[CV 2/3] END max_depth=2, max_features=0.8855096974288762, min_samples_leaf=6;, score=1.000 total time=   1.4s\n",
            "[CV 3/3] END max_depth=2, max_features=0.8855096974288762, min_samples_leaf=6;, score=1.000 total time=   1.4s\n",
            "[CV 1/3] END max_depth=7, max_features=0.8421460885652102, min_samples_leaf=5;, score=1.000 total time=   1.4s\n",
            "[CV 2/3] END max_depth=7, max_features=0.8421460885652102, min_samples_leaf=5;, score=1.000 total time=   1.4s\n",
            "[CV 3/3] END max_depth=7, max_features=0.8421460885652102, min_samples_leaf=5;, score=1.000 total time=   1.4s\n",
            "[CV 1/3] END max_depth=1, max_features=0.5716668172950459, min_samples_leaf=12;, score=1.000 total time=   1.4s\n",
            "[CV 2/3] END max_depth=1, max_features=0.5716668172950459, min_samples_leaf=12;, score=1.000 total time=   1.4s\n",
            "[CV 3/3] END max_depth=1, max_features=0.5716668172950459, min_samples_leaf=12;, score=1.000 total time=   1.4s\n"
          ]
        },
        {
          "data": {
            "text/plain": [
              "(RandomForestClassifier(max_depth=9, max_features=0.2758360253814487,\n",
              "                        min_samples_leaf=15), 1.0)"
            ]
          },
          "execution_count": 44,
          "metadata": {},
          "output_type": "execute_result"
        }
      ],
      "source": [
        "\n",
        "rfc = RandomForestClassifier()\n",
        "params = {'max_features': uniform(),\n",
        "          'max_depth': randint(1, 20),\n",
        "          'min_samples_leaf': randint(1, 20)}\n",
        "classifiers['rfc'] = test_classifier(rfc, params)\n",
        "classifiers['rfc']"
      ]
    },
    {
      "cell_type": "markdown",
      "metadata": {
        "id": "6-tusUBWJCuI"
      },
      "source": [
        "##### Gradient Boosting"
      ]
    },
    {
      "cell_type": "code",
      "execution_count": null,
      "metadata": {
        "colab": {
          "base_uri": "https://localhost:8080/"
        },
        "id": "RVb5AXj4JKLR",
        "outputId": "65eea4c2-020d-4493-8570-310fccf76787"
      },
      "outputs": [
        {
          "name": "stdout",
          "output_type": "stream",
          "text": [
            "Fitting 3 folds for each of 5 candidates, totalling 15 fits\n",
            "[CV 1/3] END max_depth=9, max_features=sqrt, n_estimators=254;, score=1.000 total time=   5.1s\n",
            "[CV 2/3] END max_depth=9, max_features=sqrt, n_estimators=254;, score=1.000 total time=   4.3s\n",
            "[CV 3/3] END max_depth=9, max_features=sqrt, n_estimators=254;, score=1.000 total time=   3.6s\n",
            "[CV 1/3] END max_depth=4, max_features=sqrt, n_estimators=93;, score=1.000 total time=   1.7s\n",
            "[CV 2/3] END max_depth=4, max_features=sqrt, n_estimators=93;, score=1.000 total time=   1.7s\n",
            "[CV 3/3] END max_depth=4, max_features=sqrt, n_estimators=93;, score=1.000 total time=   1.7s\n",
            "[CV 1/3] END max_depth=3, max_features=sqrt, n_estimators=239;, score=1.000 total time=   3.5s\n",
            "[CV 2/3] END max_depth=3, max_features=sqrt, n_estimators=239;, score=1.000 total time=   3.4s\n",
            "[CV 3/3] END max_depth=3, max_features=sqrt, n_estimators=239;, score=1.000 total time=   3.4s\n",
            "[CV 1/3] END max_depth=2, max_features=auto, n_estimators=209;, score=1.000 total time=   3.1s\n",
            "[CV 2/3] END max_depth=2, max_features=auto, n_estimators=209;, score=1.000 total time=   3.2s\n",
            "[CV 3/3] END max_depth=2, max_features=auto, n_estimators=209;, score=1.000 total time=   3.0s\n",
            "[CV 1/3] END max_depth=6, max_features=sqrt, n_estimators=155;, score=1.000 total time=   2.7s\n",
            "[CV 2/3] END max_depth=6, max_features=sqrt, n_estimators=155;, score=1.000 total time=   2.7s\n",
            "[CV 3/3] END max_depth=6, max_features=sqrt, n_estimators=155;, score=1.000 total time=   2.6s\n"
          ]
        },
        {
          "data": {
            "text/plain": [
              "(GradientBoostingClassifier(max_depth=9, max_features='sqrt', n_estimators=254),\n",
              " 1.0)"
            ]
          },
          "execution_count": 45,
          "metadata": {},
          "output_type": "execute_result"
        }
      ],
      "source": [
        "params = {\n",
        "          'n_estimators': randint(50,500),\n",
        "          'max_depth': randint(2, 10),\n",
        "          'max_features': ['auto', 'sqrt', 'log2']\n",
        "}\n",
        "grdclf = GradientBoostingClassifier()\n",
        "classifiers['grd'] = test_classifier(grdclf, params)\n",
        "classifiers['grd']"
      ]
    },
    {
      "cell_type": "markdown",
      "metadata": {
        "id": "mjLF6Z2aD4z-"
      },
      "source": [
        "#### Model creation and evaluation"
      ]
    },
    {
      "cell_type": "markdown",
      "metadata": {
        "id": "2AjWxjsCD_bk"
      },
      "source": [
        "GRADIENT BOSSTING"
      ]
    },
    {
      "cell_type": "code",
      "execution_count": null,
      "metadata": {
        "id": "jck-plO04GdJ"
      },
      "outputs": [],
      "source": [
        "clf_grd = GradientBoostingClassifier(n_estimators=284, random_state=0, \n",
        "                                     max_depth=7,\n",
        "                                     max_features='sqrt')\n",
        "clf_grd.fit(X_train, y_train)\n",
        "y_pred_grd = clf_grd.predict(X_test)"
      ]
    },
    {
      "cell_type": "code",
      "execution_count": null,
      "metadata": {
        "colab": {
          "base_uri": "https://localhost:8080/"
        },
        "id": "qPc1x8AwKjEo",
        "outputId": "3802565d-6b4b-4fa9-8b51-902dbead06e6"
      },
      "outputs": [
        {
          "name": "stdout",
          "output_type": "stream",
          "text": [
            "[[14490     0]\n",
            " [    0 14517]]\n"
          ]
        }
      ],
      "source": [
        "print(confusion_matrix(y_test, y_pred_grd))"
      ]
    },
    {
      "cell_type": "code",
      "execution_count": null,
      "metadata": {
        "colab": {
          "base_uri": "https://localhost:8080/"
        },
        "id": "wTV5uI19_H3n",
        "outputId": "d3c64a26-7f30-4aa9-e9d2-bf84ba567d56"
      },
      "outputs": [
        {
          "name": "stdout",
          "output_type": "stream",
          "text": [
            "              precision    recall  f1-score   support\n",
            "\n",
            "           0       1.00      1.00      1.00     14490\n",
            "           1       1.00      1.00      1.00     14517\n",
            "\n",
            "    accuracy                           1.00     29007\n",
            "   macro avg       1.00      1.00      1.00     29007\n",
            "weighted avg       1.00      1.00      1.00     29007\n",
            "\n"
          ]
        }
      ],
      "source": [
        "print(classification_report(y_test, y_pred_grd))"
      ]
    },
    {
      "cell_type": "markdown",
      "metadata": {
        "id": "BVJ6csT0ECRn"
      },
      "source": [
        "XGBOOST"
      ]
    },
    {
      "cell_type": "code",
      "execution_count": null,
      "metadata": {
        "id": "g5YRhsKK4GVw"
      },
      "outputs": [],
      "source": [
        "\n",
        "clf_xgb = xgb.XGBClassifier(learning_rate=0.020987123462013087, max_depth=5, n_estimators=182)\n",
        "\n",
        "clf_xgb.fit(X_train, y_train)\n",
        "y_pred_xgb = clf_xgb.predict(X_test)\n"
      ]
    },
    {
      "cell_type": "code",
      "execution_count": null,
      "metadata": {
        "colab": {
          "base_uri": "https://localhost:8080/"
        },
        "id": "zTPPBYsZ_Z2a",
        "outputId": "44ee2567-de53-49a7-bdaf-cbf69bf4fa91"
      },
      "outputs": [
        {
          "name": "stdout",
          "output_type": "stream",
          "text": [
            "              precision    recall  f1-score   support\n",
            "\n",
            "           0       1.00      1.00      1.00     14490\n",
            "           1       1.00      1.00      1.00     14517\n",
            "\n",
            "    accuracy                           1.00     29007\n",
            "   macro avg       1.00      1.00      1.00     29007\n",
            "weighted avg       1.00      1.00      1.00     29007\n",
            "\n"
          ]
        }
      ],
      "source": [
        "print(classification_report(y_test, y_pred_xgb))"
      ]
    },
    {
      "cell_type": "markdown",
      "metadata": {
        "id": "pVoWIFCwEEmL"
      },
      "source": [
        "RANDOM FOREST"
      ]
    },
    {
      "cell_type": "code",
      "execution_count": null,
      "metadata": {
        "id": "XOPZeIapy3E1"
      },
      "outputs": [],
      "source": [
        "\n",
        "clf_rfc = RandomForestClassifier(max_depth=9, max_features=0.7301066073468825,\n",
        "                        min_samples_leaf=6)\n",
        "\n",
        "clf_rfc.fit(X_train, y_train)\n",
        "y_pred_rfc = clf_xgb.predict(X_test)"
      ]
    },
    {
      "cell_type": "code",
      "execution_count": null,
      "metadata": {
        "colab": {
          "base_uri": "https://localhost:8080/"
        },
        "id": "gGtQqZkbOtSR",
        "outputId": "971e76af-1caf-4d77-b15d-84832fcae703"
      },
      "outputs": [
        {
          "name": "stdout",
          "output_type": "stream",
          "text": [
            "              precision    recall  f1-score   support\n",
            "\n",
            "           0       1.00      1.00      1.00     14490\n",
            "           1       1.00      1.00      1.00     14517\n",
            "\n",
            "    accuracy                           1.00     29007\n",
            "   macro avg       1.00      1.00      1.00     29007\n",
            "weighted avg       1.00      1.00      1.00     29007\n",
            "\n"
          ]
        }
      ],
      "source": [
        "print(classification_report(y_test, y_pred_rfc))"
      ]
    },
    {
      "cell_type": "markdown",
      "metadata": {
        "id": "37Eaw40CEGsX"
      },
      "source": [
        "Creating a stacking classifier to make a best fitting model"
      ]
    },
    {
      "cell_type": "code",
      "execution_count": null,
      "metadata": {
        "id": "SAKd8a76TNSy"
      },
      "outputs": [],
      "source": [
        "clfs = [\n",
        "        ('grd', clf_grd),\n",
        "        ('xgb', clf_xgb),\n",
        "        ('rfc', clf_rfc)\n",
        "        ]"
      ]
    },
    {
      "cell_type": "code",
      "execution_count": null,
      "metadata": {
        "id": "oPKaT1JmTXKo"
      },
      "outputs": [],
      "source": [
        "from sklearn.linear_model import LogisticRegression\n",
        "clf_stk = StackingClassifier(estimators = clfs,final_estimator = LogisticRegression(),cv=5)\n",
        "clf_stk.fit(X_train, y_train)\n",
        "y_pred = clf_stk.predict(X_test)\n"
      ]
    },
    {
      "cell_type": "code",
      "execution_count": null,
      "metadata": {
        "colab": {
          "base_uri": "https://localhost:8080/"
        },
        "id": "W1sJmw3bdEob",
        "outputId": "ad2798a1-92c0-4ffa-b935-94146eaa0727"
      },
      "outputs": [
        {
          "name": "stdout",
          "output_type": "stream",
          "text": [
            "[[14490     0]\n",
            " [    0 14517]]\n"
          ]
        }
      ],
      "source": [
        "print(confusion_matrix(y_test, y_pred))"
      ]
    },
    {
      "cell_type": "code",
      "execution_count": null,
      "metadata": {
        "colab": {
          "base_uri": "https://localhost:8080/"
        },
        "id": "Keu9ei7wOKIo",
        "outputId": "cf5cb9de-9e31-4739-b41e-281f908cb864"
      },
      "outputs": [
        {
          "name": "stdout",
          "output_type": "stream",
          "text": [
            "              precision    recall  f1-score   support\n",
            "\n",
            "           0       1.00      1.00      1.00     14490\n",
            "           1       1.00      1.00      1.00     14517\n",
            "\n",
            "    accuracy                           1.00     29007\n",
            "   macro avg       1.00      1.00      1.00     29007\n",
            "weighted avg       1.00      1.00      1.00     29007\n",
            "\n"
          ]
        }
      ],
      "source": [
        "print(classification_report(y_test, y_pred))"
      ]
    },
    {
      "cell_type": "markdown",
      "metadata": {
        "id": "1Y7WHZ96EXfm"
      },
      "source": [
        "FOr the given resampled data , stackingclassifier shows the best F1 score of 1 for the testing data"
      ]
    }
  ],
  "metadata": {
    "colab": {
      "collapsed_sections": [
        "QsMEah699S6-"
      ],
      "provenance": []
    },
    "kernelspec": {
      "display_name": "Python 3",
      "language": "python",
      "name": "python3"
    },
    "language_info": {
      "codemirror_mode": {
        "name": "ipython",
        "version": 3
      },
      "file_extension": ".py",
      "mimetype": "text/x-python",
      "name": "python",
      "nbconvert_exporter": "python",
      "pygments_lexer": "ipython3",
      "version": "3.10.8"
    },
    "vscode": {
      "interpreter": {
        "hash": "b0fa6594d8f4cbf19f97940f81e996739fb7646882a419484c72d19e05852a7e"
      }
    }
  },
  "nbformat": 4,
  "nbformat_minor": 0
}
