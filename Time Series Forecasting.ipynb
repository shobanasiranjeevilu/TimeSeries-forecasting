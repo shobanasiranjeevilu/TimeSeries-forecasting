{
  "cells": [
    {
      "cell_type": "code",
      "execution_count": 2,
      "metadata": {
        "id": "Z_BUnegyvp-9"
      },
      "outputs": [],
      "source": [
        "import pandas as pd\n",
        "import numpy as np\n",
        "\n",
        "import matplotlib.pyplot as plt\n",
        "import seaborn as sns\n",
        "\n",
        "from statsmodels.graphics.tsaplots import plot_acf\n",
        "from statsmodels.tsa.ar_model import AutoReg"
      ]
    },
    {
      "cell_type": "code",
      "execution_count": 3,
      "metadata": {
        "id": "_M0M7IpyzoMu"
      },
      "outputs": [],
      "source": [
        "df_test_under = pd.read_csv(\"data/resampled_data.csv\")"
      ]
    },
    {
      "cell_type": "markdown",
      "metadata": {
        "id": "Fc05Ka5QYB6z"
      },
      "source": [
        "# Time series"
      ]
    },
    {
      "cell_type": "markdown",
      "metadata": {
        "id": "MZ6wli51l38s"
      },
      "source": [
        "From the above plot on anomaly count, it is evident that moteid 6 and 18 having higer anomaly count, hence considering any one sensor for further processing"
      ]
    },
    {
      "cell_type": "code",
      "execution_count": null,
      "metadata": {
        "id": "WKzan-PNjCm1"
      },
      "outputs": [],
      "source": [
        "\n",
        "start = pd.to_datetime(\"2004-02-28\")\n",
        "df_filtered_18 = df_test_under[(df_test_under['moteid'] == 18) & (df_test_under['date'] == \"2004-02-28\" )]\n",
        "df_filtered_18 = df_filtered_18.sort_values(by=['timestamp'])\n",
        "df_filtered_18['hour'] = df_filtered_18['timestamp'].dt.hour"
      ]
    },
    {
      "cell_type": "markdown",
      "metadata": {
        "id": "9_jY8JYICy0l"
      },
      "source": [
        "Finding AutoCorrelation"
      ]
    },
    {
      "cell_type": "code",
      "execution_count": null,
      "metadata": {
        "colab": {
          "base_uri": "https://localhost:8080/",
          "height": 281
        },
        "id": "kWKTvana7cy-",
        "outputId": "8e5f0063-4c55-4845-ca48-a86503b94395"
      },
      "outputs": [
        {
          "data": {
            "image/png": "[encoded data removed]",
            "text/plain": [
              "<Figure size 432x288 with 1 Axes>"
            ]
          },
          "metadata": {
            "needs_background": "light"
          },
          "output_type": "display_data"
        }
      ],
      "source": [
        "plot = plot_acf(df_filtered_18.temperature.values,lags=34)"
      ]
    },
    {
      "cell_type": "markdown",
      "metadata": {
        "id": "d00w_1WrC32m"
      },
      "source": [
        "creating and evaluating a static autoregressive model"
      ]
    },
    {
      "cell_type": "code",
      "execution_count": null,
      "metadata": {
        "colab": {
          "base_uri": "https://localhost:8080/"
        },
        "id": "Lv7RzY76u43m",
        "outputId": "70c825b9-dcf8-416b-f55c-ed474e3178b7"
      },
      "outputs": [
        {
          "name": "stderr",
          "output_type": "stream",
          "text": [
            "/usr/local/lib/python3.8/dist-packages/statsmodels/tsa/ar_model.py:248: FutureWarning: The parameter names will change after 0.12 is released. Set old_names to False to use the new names now. Set old_names to True to use the old names. \n",
            "  warnings.warn(\n"
          ]
        }
      ],
      "source": [
        "\n",
        "train = df_filtered_18.temperature.values\n",
        "\n",
        "# train autoregression\n",
        "model = AutoReg(np.asarray(train), lags=20)\n",
        "model_fit = model.fit()\n",
        "\n",
        "# make predictions for next day (i.e) 2004-02-29\n",
        "predictions = model_fit.predict()"
      ]
    },
    {
      "cell_type": "markdown",
      "metadata": {
        "id": "fo4vm1PkDHYa"
      },
      "source": [
        "Passing the predicted value to above supervised learning model to identify the anomaly"
      ]
    },
    {
      "cell_type": "code",
      "execution_count": null,
      "metadata": {
        "id": "872U9uKPu4ua"
      },
      "outputs": [],
      "source": [
        "future_pred = clf_stk.predict(predictions.reshape(-1,1))"
      ]
    },
    {
      "cell_type": "markdown",
      "metadata": {
        "id": "XPHPavq0DP2z"
      },
      "source": [
        "EVALUATION of the predicted data"
      ]
    },
    {
      "cell_type": "code",
      "execution_count": null,
      "metadata": {
        "id": "C-FGQpkK_wUk"
      },
      "outputs": [],
      "source": [
        "df_filtered = df_test_under[(df_test_under['moteid'] == 18) & (df_test_under['date']== \"2004-02-29\" )]"
      ]
    },
    {
      "cell_type": "code",
      "execution_count": null,
      "metadata": {
        "id": "9FbZms5UAIPU"
      },
      "outputs": [],
      "source": [
        "test_predict = df_filtered.anomaly.values[:178]"
      ]
    },
    {
      "cell_type": "code",
      "execution_count": null,
      "metadata": {
        "colab": {
          "base_uri": "https://localhost:8080/"
        },
        "id": "7gfS8REWA64j",
        "outputId": "0e702e37-ed44-4f9f-831d-4038f41f3996"
      },
      "outputs": [
        {
          "name": "stdout",
          "output_type": "stream",
          "text": [
            "testing value [0 0 0 0 0 0 0 0 0 0 0 0 0 0 0 0 0 0 0 0 0 0 0 0 0 0 0 0 0 0 0 0 0 0 0 0 0\n",
            " 0 0 0 0 0 0 0 0 0 0 0 0 0 0 0 0 0 0 1 1 1 1 1 1 1 1 1 1 1 1 1 1 1 1 1 1 1\n",
            " 1 1 1 1 1 1 1 1 1 1 1 1 1 1 1 1 1 1 1 1 1 1 1 1 1 1 1 1 1 1 1 1 1 1 1 1 1\n",
            " 1 1 1 1 1 1 1 1 1 1 1 1 1 1 1 1 1 1 1 1 1 1 1 1 1 1 1 1 1 1 1 1 1 1 1 1 1\n",
            " 1 1 1 1 1 1 1 1 1 1 1 1 1 1 1 1 1 1 1 1 1 1 1 1 1 1 1 1 1 1]\n"
          ]
        }
      ],
      "source": [
        "print(\"testing value\",test_predict)"
      ]
    },
    {
      "cell_type": "code",
      "execution_count": null,
      "metadata": {
        "colab": {
          "base_uri": "https://localhost:8080/"
        },
        "id": "Hf8OyrBzBBaV",
        "outputId": "14f4a129-3ad0-493e-8be1-f27a406ad65c"
      },
      "outputs": [
        {
          "name": "stdout",
          "output_type": "stream",
          "text": [
            "predicted value [1 1 1 1 1 0 1 1 1 1 1 1 1 1 1 1 1 1 1 1 1 1 1 1 1 1 1 1 1 1 1 1 1 1 1 1 1\n",
            " 1 1 1 1 1 1 1 1 1 1 1 1 1 1 1 1 1 1 1 1 1 1 1 1 1 1 1 1 1 1 1 1 1 1 1 1 1\n",
            " 1 1 1 1 1 1 1 1 1 1 1 1 1 1 1 1 1 1 1 1 1 1 1 1 1 1 1 1 1 1 1 1 1 1 1 1 1\n",
            " 1 1 1 1 1 1 1 1 1 1 1 1 1 1 1 1 1 1 1 1 1 1 1 1 0 1 0 0 0 0 0 0 0 0 0 0 0\n",
            " 0 0 0 0 0 0 0 0 0 0 0 0 0 0 0 0 0 0 0 0 0 0 0 0 0 0 0 0 0 0]\n"
          ]
        }
      ],
      "source": [
        "print(\"predicted value\",future_pred)"
      ]
    },
    {
      "cell_type": "code",
      "execution_count": null,
      "metadata": {
        "colab": {
          "base_uri": "https://localhost:8080/"
        },
        "id": "wfYyj3cF_4f4",
        "outputId": "f08a3893-eb02-439a-8125-a6736aa60ae1"
      },
      "outputs": [
        {
          "name": "stdout",
          "output_type": "stream",
          "text": [
            "[[ 1 54]\n",
            " [42 81]]\n"
          ]
        }
      ],
      "source": [
        "print(confusion_matrix(test_predict,future_pred))"
      ]
    },
    {
      "cell_type": "markdown",
      "metadata": {
        "id": "X3WoWifNDWo5"
      },
      "source": [
        "There are some False Positives and True Negatives but the supervised learning model was able to identify the anomaly with the forecasted data."
      ]
    },
    {
      "cell_type": "code",
      "execution_count": null,
      "metadata": {
        "colab": {
          "base_uri": "https://localhost:8080/",
          "height": 265
        },
        "id": "eG_3vflvAitY",
        "outputId": "2e16fc65-7abe-43dc-bd23-b04f2131dea0"
      },
      "outputs": [
        {
          "data": {
            "image/png": "[encoded data removed]",
            "text/plain": [
              "<Figure size 432x288 with 1 Axes>"
            ]
          },
          "metadata": {
            "needs_background": "light"
          },
          "output_type": "display_data"
        }
      ],
      "source": [
        "plt.plot(df_filtered.temperature.values[:178],label='actual')\n",
        "plt.plot(predictions, color='red',label='predicted')\n",
        "plt.legend()\n",
        "plt.show()"
      ]
    },
    {
      "cell_type": "code",
      "execution_count": null,
      "metadata": {
        "id": "8C75eBAsdb6j"
      },
      "outputs": [],
      "source": []
    }
  ],
  "metadata": {
    "colab": {
      "collapsed_sections": [
        "QsMEah699S6-"
      ],
      "provenance": []
    },
    "kernelspec": {
      "display_name": "Python 3",
      "language": "python",
      "name": "python3"
    },
    "language_info": {
      "codemirror_mode": {
        "name": "ipython",
        "version": 3
      },
      "file_extension": ".py",
      "mimetype": "text/x-python",
      "name": "python",
      "nbconvert_exporter": "python",
      "pygments_lexer": "ipython3",
      "version": "3.10.8"
    },
    "vscode": {
      "interpreter": {
        "hash": "b0fa6594d8f4cbf19f97940f81e996739fb7646882a419484c72d19e05852a7e"
      }
    }
  },
  "nbformat": 4,
  "nbformat_minor": 0
}
