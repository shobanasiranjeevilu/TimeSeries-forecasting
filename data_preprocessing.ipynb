{
  "cells": [
    {
      "cell_type": "code",
      "execution_count": null,
      "metadata": {
        "id": "j9uWvADSvcfE"
      },
      "outputs": [],
      "source": [
        "import pandas as pd\n",
        "import numpy as np\n",
        "\n",
        "import matplotlib.pyplot as plt\n",
        "import seaborn as sns\n",
        "\n",
        "from sklearn.compose import make_column_transformer\n",
        "from sklearn.pipeline import make_pipeline\n",
        "from sklearn.preprocessing import RobustScaler"
      ]
    },
    {
      "cell_type": "code",
      "execution_count": 5,
      "metadata": {
        "id": "Z_BUnegyvp-9"
      },
      "outputs": [],
      "source": [
        "df = pd.read_csv(\"data/data.txt\",header=None,sep=\" \").sort_values(by=[0,1]).reset_index(drop=True)\n",
        "df.columns = [\"date\",'time','epoch','moteid','temperature','humidity','light','voltage']\n",
        "df['timestamp'] = pd.to_datetime(df['date'] +' '+ df['time'])"
      ]
    },
    {
      "cell_type": "markdown",
      "metadata": {
        "id": "UTiGZV95PZbD"
      },
      "source": [
        "# EDA"
      ]
    },
    {
      "cell_type": "markdown",
      "metadata": {
        "id": "KKkmAtaMVcxM"
      },
      "source": [
        "## Missing value imputation"
      ]
    },
    {
      "cell_type": "code",
      "execution_count": 7,
      "metadata": {
        "colab": {
          "base_uri": "https://localhost:8080/"
        },
        "id": "irg4E7-KVRe-",
        "outputId": "e4dc4a3f-383d-46dd-b0b7-e37739cea155"
      },
      "outputs": [
        {
          "data": {
            "text/plain": [
              "date           False\n",
              "time           False\n",
              "epoch          False\n",
              "moteid          True\n",
              "temperature     True\n",
              "humidity        True\n",
              "light           True\n",
              "voltage         True\n",
              "timestamp      False\n",
              "dtype: bool"
            ]
          },
          "execution_count": 7,
          "metadata": {},
          "output_type": "execute_result"
        }
      ],
      "source": [
        "df.isna().any()"
      ]
    },
    {
      "cell_type": "markdown",
      "metadata": {
        "id": "Xi7ljJgpZPe8"
      },
      "source": [
        "### moteid"
      ]
    },
    {
      "cell_type": "markdown",
      "metadata": {
        "id": "He2w4foeYQWM"
      },
      "source": [
        "As per the data file, moteid range from 1-54, hence removing other data values"
      ]
    },
    {
      "cell_type": "code",
      "execution_count": 8,
      "metadata": {
        "id": "By-1qyxkztYa"
      },
      "outputs": [],
      "source": [
        "unknown_sensor_ids = list(df[df['moteid'] > 54]['moteid'].unique())"
      ]
    },
    {
      "cell_type": "code",
      "execution_count": 9,
      "metadata": {
        "id": "IVGC6O7IYezp"
      },
      "outputs": [],
      "source": [
        "df_removed_unknowns = df[~df['moteid'].isin(unknown_sensor_ids)]"
      ]
    },
    {
      "cell_type": "code",
      "execution_count": 8,
      "metadata": {
        "colab": {
          "base_uri": "https://localhost:8080/"
        },
        "id": "UM_EWsyk0M-f",
        "outputId": "3d9f63f2-331e-4aeb-8f9c-b7465f766d6f"
      },
      "outputs": [
        {
          "data": {
            "text/plain": [
              "True"
            ]
          },
          "execution_count": 8,
          "metadata": {},
          "output_type": "execute_result"
        }
      ],
      "source": [
        "df_removed_unknowns['moteid'].isna().any()"
      ]
    },
    {
      "cell_type": "markdown",
      "metadata": {
        "id": "Q-nHyTTTy75e"
      },
      "source": [
        "moteid is the sensorId and having a NAN values in the sensorId is invalid, hence checking the sensor values like temperature, voltage, light, humidity for sensorId with NAN values."
      ]
    },
    {
      "cell_type": "code",
      "execution_count": 10,
      "metadata": {
        "id": "InvTdRTDUJcD"
      },
      "outputs": [],
      "source": [
        "df_testing = df_removed_unknowns[df_removed_unknowns['moteid'].isnull()==True]"
      ]
    },
    {
      "cell_type": "code",
      "execution_count": 11,
      "metadata": {
        "colab": {
          "base_uri": "https://localhost:8080/",
          "height": 0
        },
        "id": "oY02f6L8Uk9n",
        "outputId": "2cbfa025-65e3-4ed9-fb1b-77df4bc69210"
      },
      "outputs": [
        {
          "data": {
            "text/html": [
              "<div>\n",
              "<style scoped>\n",
              "    .dataframe tbody tr th:only-of-type {\n",
              "        vertical-align: middle;\n",
              "    }\n",
              "\n",
              "    .dataframe tbody tr th {\n",
              "        vertical-align: top;\n",
              "    }\n",
              "\n",
              "    .dataframe thead th {\n",
              "        text-align: right;\n",
              "    }\n",
              "</style>\n",
              "<table border=\"1\" class=\"dataframe\">\n",
              "  <thead>\n",
              "    <tr style=\"text-align: right;\">\n",
              "      <th></th>\n",
              "      <th>date</th>\n",
              "      <th>time</th>\n",
              "      <th>epoch</th>\n",
              "      <th>moteid</th>\n",
              "      <th>temperature</th>\n",
              "      <th>humidity</th>\n",
              "      <th>light</th>\n",
              "      <th>voltage</th>\n",
              "      <th>timestamp</th>\n",
              "    </tr>\n",
              "  </thead>\n",
              "  <tbody>\n",
              "  </tbody>\n",
              "</table>\n",
              "</div>"
            ],
            "text/plain": [
              "Empty DataFrame\n",
              "Columns: [date, time, epoch, moteid, temperature, humidity, light, voltage, timestamp]\n",
              "Index: []"
            ]
          },
          "execution_count": 11,
          "metadata": {},
          "output_type": "execute_result"
        }
      ],
      "source": [
        "df_testing[((df_testing['temperature'].isnull()==False) | (df_testing['humidity'].isnull()==False) |\\\n",
        "           (df_testing['light'].isnull()==False) | (df_testing['voltage'].isnull()==False))]"
      ]
    },
    {
      "cell_type": "markdown",
      "metadata": {
        "id": "yEfVS2ecWNvO"
      },
      "source": [
        "Sensor values like temperature,voltage,light,humidity is NAN when sensorid is NAN, hence removing the values where moteid(sensorid) is NAN"
      ]
    },
    {
      "cell_type": "code",
      "execution_count": 12,
      "metadata": {
        "id": "oPcPlcYEWMOi"
      },
      "outputs": [],
      "source": [
        "df_removed_nan = df_removed_unknowns[df_removed_unknowns['moteid'].isnull()==False]"
      ]
    },
    {
      "cell_type": "markdown",
      "metadata": {
        "id": "7TjjxKke1EFX"
      },
      "source": [
        " Changing the type of moteid as per input file"
      ]
    },
    {
      "cell_type": "code",
      "execution_count": 13,
      "metadata": {
        "id": "fBoFoEUkZs8i"
      },
      "outputs": [],
      "source": [
        "df_with_full_moteid = df_removed_nan.astype({\"moteid\": int})"
      ]
    },
    {
      "cell_type": "code",
      "execution_count": 14,
      "metadata": {
        "colab": {
          "base_uri": "https://localhost:8080/"
        },
        "id": "JoLe075N3Hgf",
        "outputId": "cce96564-4496-410f-9ca0-e98089ebcdf4"
      },
      "outputs": [
        {
          "data": {
            "text/plain": [
              "date           False\n",
              "time           False\n",
              "epoch          False\n",
              "moteid         False\n",
              "temperature     True\n",
              "humidity        True\n",
              "light           True\n",
              "voltage        False\n",
              "timestamp      False\n",
              "dtype: bool"
            ]
          },
          "execution_count": 14,
          "metadata": {},
          "output_type": "execute_result"
        }
      ],
      "source": [
        "df_with_full_moteid.isna().any()"
      ]
    },
    {
      "cell_type": "markdown",
      "metadata": {
        "id": "VuUYnEGqyq4q"
      },
      "source": [
        "### Now, Imputing the values for sensor values like temperature, humidity and light which has null values using interpolate method"
      ]
    },
    {
      "cell_type": "code",
      "execution_count": 15,
      "metadata": {
        "id": "NoOW4xHUyqaV"
      },
      "outputs": [],
      "source": [
        "df_with_full_moteid['temperature']= df_with_full_moteid['temperature'].interpolate(method='linear')\n",
        "df_with_full_moteid['humidity']= df_with_full_moteid['humidity'].interpolate(method='linear')\n",
        "df_with_full_moteid['light']= df_with_full_moteid['light'].interpolate(method='linear')"
      ]
    },
    {
      "cell_type": "code",
      "execution_count": 16,
      "metadata": {
        "colab": {
          "base_uri": "https://localhost:8080/"
        },
        "id": "mUQDrxRA1YF5",
        "outputId": "b8124c04-0e63-40fa-ec4e-2abdfd0e97e9"
      },
      "outputs": [
        {
          "data": {
            "text/plain": [
              "date           False\n",
              "time           False\n",
              "epoch          False\n",
              "moteid         False\n",
              "temperature    False\n",
              "humidity       False\n",
              "light          False\n",
              "voltage        False\n",
              "timestamp      False\n",
              "dtype: bool"
            ]
          },
          "execution_count": 16,
          "metadata": {},
          "output_type": "execute_result"
        }
      ],
      "source": [
        "df_new = df_with_full_moteid\n",
        "df_new.isna().any()"
      ]
    },
    {
      "cell_type": "code",
      "execution_count": 17,
      "metadata": {
        "colab": {
          "base_uri": "https://localhost:8080/",
          "height": 0
        },
        "id": "wKKBQQv2xtQk",
        "outputId": "e886820e-a761-4d94-daeb-c31b3bbc54ae"
      },
      "outputs": [
        {
          "data": {
            "text/html": [
              "<div>\n",
              "<style scoped>\n",
              "    .dataframe tbody tr th:only-of-type {\n",
              "        vertical-align: middle;\n",
              "    }\n",
              "\n",
              "    .dataframe tbody tr th {\n",
              "        vertical-align: top;\n",
              "    }\n",
              "\n",
              "    .dataframe thead th {\n",
              "        text-align: right;\n",
              "    }\n",
              "</style>\n",
              "<table border=\"1\" class=\"dataframe\">\n",
              "  <thead>\n",
              "    <tr style=\"text-align: right;\">\n",
              "      <th></th>\n",
              "      <th>date</th>\n",
              "      <th>time</th>\n",
              "      <th>epoch</th>\n",
              "      <th>moteid</th>\n",
              "      <th>temperature</th>\n",
              "      <th>humidity</th>\n",
              "      <th>light</th>\n",
              "      <th>voltage</th>\n",
              "      <th>timestamp</th>\n",
              "    </tr>\n",
              "  </thead>\n",
              "  <tbody>\n",
              "    <tr>\n",
              "      <th>205493</th>\n",
              "      <td>2004-03-01</td>\n",
              "      <td>06:26:33.169436</td>\n",
              "      <td>6417</td>\n",
              "      <td>18</td>\n",
              "      <td>16.5976</td>\n",
              "      <td>48.1893</td>\n",
              "      <td>2.76</td>\n",
              "      <td>2.45421</td>\n",
              "      <td>2004-03-01 06:26:33.169436</td>\n",
              "    </tr>\n",
              "    <tr>\n",
              "      <th>1502007</th>\n",
              "      <td>2004-03-17</td>\n",
              "      <td>05:09:19.417773</td>\n",
              "      <td>52342</td>\n",
              "      <td>53</td>\n",
              "      <td>21.1742</td>\n",
              "      <td>33.9442</td>\n",
              "      <td>0.46</td>\n",
              "      <td>2.46440</td>\n",
              "      <td>2004-03-17 05:09:19.417773</td>\n",
              "    </tr>\n",
              "    <tr>\n",
              "      <th>1311250</th>\n",
              "      <td>2004-03-14</td>\n",
              "      <td>01:50:41.712295</td>\n",
              "      <td>43305</td>\n",
              "      <td>13</td>\n",
              "      <td>19.5964</td>\n",
              "      <td>46.3937</td>\n",
              "      <td>1.15</td>\n",
              "      <td>2.46440</td>\n",
              "      <td>2004-03-14 01:50:41.712295</td>\n",
              "    </tr>\n",
              "    <tr>\n",
              "      <th>1932520</th>\n",
              "      <td>2004-03-23</td>\n",
              "      <td>09:34:37.628691</td>\n",
              "      <td>33677</td>\n",
              "      <td>38</td>\n",
              "      <td>122.1530</td>\n",
              "      <td>43.6188</td>\n",
              "      <td>426.88</td>\n",
              "      <td>2.29313</td>\n",
              "      <td>2004-03-23 09:34:37.628691</td>\n",
              "    </tr>\n",
              "    <tr>\n",
              "      <th>663806</th>\n",
              "      <td>2004-03-06</td>\n",
              "      <td>06:18:05.394353</td>\n",
              "      <td>20800</td>\n",
              "      <td>2</td>\n",
              "      <td>19.5180</td>\n",
              "      <td>43.5855</td>\n",
              "      <td>128.80</td>\n",
              "      <td>2.58226</td>\n",
              "      <td>2004-03-06 06:18:05.394353</td>\n",
              "    </tr>\n",
              "  </tbody>\n",
              "</table>\n",
              "</div>"
            ],
            "text/plain": [
              "               date             time  epoch  moteid  temperature  humidity  \\\n",
              "205493   2004-03-01  06:26:33.169436   6417      18      16.5976   48.1893   \n",
              "1502007  2004-03-17  05:09:19.417773  52342      53      21.1742   33.9442   \n",
              "1311250  2004-03-14  01:50:41.712295  43305      13      19.5964   46.3937   \n",
              "1932520  2004-03-23  09:34:37.628691  33677      38     122.1530   43.6188   \n",
              "663806   2004-03-06  06:18:05.394353  20800       2      19.5180   43.5855   \n",
              "\n",
              "          light  voltage                  timestamp  \n",
              "205493     2.76  2.45421 2004-03-01 06:26:33.169436  \n",
              "1502007    0.46  2.46440 2004-03-17 05:09:19.417773  \n",
              "1311250    1.15  2.46440 2004-03-14 01:50:41.712295  \n",
              "1932520  426.88  2.29313 2004-03-23 09:34:37.628691  \n",
              "663806   128.80  2.58226 2004-03-06 06:18:05.394353  "
            ]
          },
          "execution_count": 17,
          "metadata": {},
          "output_type": "execute_result"
        }
      ],
      "source": [
        "df_new.sample(5)"
      ]
    },
    {
      "cell_type": "markdown",
      "metadata": {
        "id": "7Aragf4PO4zq"
      },
      "source": [
        "## Understanding the correlation between the sensor values"
      ]
    },
    {
      "cell_type": "code",
      "execution_count": 18,
      "metadata": {
        "id": "8DGci4ZkTums"
      },
      "outputs": [],
      "source": [
        "df_numeric = df_new.select_dtypes(include = ['float'])"
      ]
    },
    {
      "cell_type": "markdown",
      "metadata": {
        "id": "lK736U0gQN1O"
      },
      "source": [
        "plotting the heatmap to find correlation"
      ]
    },
    {
      "cell_type": "code",
      "execution_count": 19,
      "metadata": {
        "colab": {
          "base_uri": "https://localhost:8080/",
          "height": 0
        },
        "id": "EQEwiaDPO_nP",
        "outputId": "08100884-d4e6-4af0-f1f4-c9795bdf6b3c"
      },
      "outputs": [
        {
          "data": {
            "image/png": "[encoded data removed]",
            "text/plain": [
              "<Figure size 640x480 with 2 Axes>"
            ]
          },
          "metadata": {},
          "output_type": "display_data"
        }
      ],
      "source": [
        "sns.heatmap(df_numeric.corr(), annot=True);"
      ]
    },
    {
      "cell_type": "markdown",
      "metadata": {
        "id": "tMqEwPiHQR_E"
      },
      "source": [
        "Based on this plot, temperature is inversely correlated with voltage and humidity, so we can infer that hotter and drier environments correlate to more energy efficient ones."
      ]
    },
    {
      "cell_type": "code",
      "execution_count": 20,
      "metadata": {},
      "outputs": [
        {
          "name": "stderr",
          "output_type": "stream",
          "text": [
            "/var/folders/65/w_x1mqn91cjgf0z9wdr_5mt40000gn/T/ipykernel_31634/3130923011.py:8: FutureWarning: The default value of numeric_only in DataFrameGroupBy.mean is deprecated. In a future version, numeric_only will default to False. Either specify numeric_only or select only columns which should be valid for the function.\n",
            "  rollmean = df_wide.resample(rule='D',on='timestamp').mean().reset_index()\n",
            "/var/folders/65/w_x1mqn91cjgf0z9wdr_5mt40000gn/T/ipykernel_31634/3130923011.py:9: FutureWarning: The default value of numeric_only in DataFrameGroupBy.std is deprecated. In a future version, numeric_only will default to False. Either specify numeric_only or select only columns which should be valid for the function.\n",
            "  rollstd = df_wide.resample(rule='D',on='timestamp').std().reset_index()\n"
          ]
        },
        {
          "data": {
            "image/png": "[encoded data removed]",
            "text/plain": [
              "<Figure size 1500x500 with 1 Axes>"
            ]
          },
          "metadata": {},
          "output_type": "display_data"
        }
      ],
      "source": [
        "### Checking time series data is stationary or not\n",
        "\n",
        "df_sensor_1  = df_new[df_new['moteid']==1]\n",
        "\n",
        "df_wide = df_sensor_1.pivot(index='timestamp',columns='moteid',values='temperature').reset_index()\n",
        "df_wide['date'] = df_wide['timestamp'].dt.date\n",
        "\n",
        "rollmean = df_wide.resample(rule='D',on='timestamp').mean().reset_index()\n",
        "rollstd = df_wide.resample(rule='D',on='timestamp').std().reset_index()\n",
        "\n",
        "rollstd['timestamp'] = pd.to_datetime(rollstd['timestamp'])\n",
        "rollmean['timestamp'] = pd.to_datetime(rollmean['timestamp'])\n",
        "\n",
        "plt.figure(figsize=(15,5))\n",
        "plt.plot(rollmean['timestamp'],rollmean[1], color='red', label='Rolling Mean')\n",
        "plt.plot(rollstd['timestamp'],rollstd[1], color='black', label='Rolling Std' )\n",
        "plt.plot(df_wide['date'],df_wide[1],color='blue',label='original')\n",
        "plt.legend()\n",
        "plt.show();"
      ]
    },
    {
      "cell_type": "markdown",
      "metadata": {
        "id": "B_Ty9A8srptO"
      },
      "source": [
        "## Scaling the data"
      ]
    },
    {
      "cell_type": "markdown",
      "metadata": {
        "id": "IwK4lafxrw-Q"
      },
      "source": [
        "From the above correlation it is understood that temperature has higher importance, hence scaling the data to be efficient for machine learning\n",
        "\n",
        "Since temperature can be bound to outliers, hence using RobustScaler"
      ]
    },
    {
      "cell_type": "code",
      "execution_count": 19,
      "metadata": {
        "id": "1qGWCxM5rs0q"
      },
      "outputs": [],
      "source": [
        "ct = make_column_transformer(\n",
        "      (RobustScaler(), [\"temperature\"]),\n",
        "      remainder=\"passthrough\"\n",
        "    )\n",
        "\n",
        "#apply the transformation and describe the output\n",
        "xt = ct.fit_transform(df_new)\n",
        "df_transformed = pd.DataFrame(xt)\n",
        "df_transformed.columns = ['temperature','date', 'time', 'epoch', 'moteid',  'humidity', 'light',\n",
        "       'voltage', 'timestamp']"
      ]
    },
    {
      "cell_type": "code",
      "execution_count": 20,
      "metadata": {
        "colab": {
          "base_uri": "https://localhost:8080/",
          "height": 0
        },
        "id": "E4Sdpzc3rsuH",
        "outputId": "f00ee21c-f983-4ece-8b24-e39347e266a4"
      },
      "outputs": [
        {
          "data": {
            "image/png": "[encoded data removed]",
            "text/plain": [
              "<Figure size 432x288 with 1 Axes>"
            ]
          },
          "metadata": {
            "needs_background": "light"
          },
          "output_type": "display_data"
        }
      ],
      "source": [
        "plt.boxplot(np.array(df_transformed['temperature']))\n",
        "plt.show();"
      ]
    }
  ],
  "metadata": {
    "colab": {
      "provenance": []
    },
    "kernelspec": {
      "display_name": "Python 3",
      "language": "python",
      "name": "python3"
    },
    "language_info": {
      "codemirror_mode": {
        "name": "ipython",
        "version": 3
      },
      "file_extension": ".py",
      "mimetype": "text/x-python",
      "name": "python",
      "nbconvert_exporter": "python",
      "pygments_lexer": "ipython3",
      "version": "3.10.8"
    },
    "vscode": {
      "interpreter": {
        "hash": "b0fa6594d8f4cbf19f97940f81e996739fb7646882a419484c72d19e05852a7e"
      }
    }
  },
  "nbformat": 4,
  "nbformat_minor": 0
}
